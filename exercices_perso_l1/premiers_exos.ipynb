{
 "cells": [
  {
   "cell_type": "code",
   "execution_count": 8,
   "metadata": {},
   "outputs": [
    {
     "name": "stdout",
     "output_type": "stream",
     "text": [
      "X = 5 Y = 9\n",
      "X = 9 Y = 5\n"
     ]
    }
   ],
   "source": [
    "X = int(input(\"Saisissez C\"))\n",
    "Y = int(input(\"Saisissez E\"))\n",
    "print (\"X =\", X, \"Y =\", Y)\n",
    "A = Y\n",
    "Y = X\n",
    "X = A\n",
    "print (\"X =\", X, \"Y =\", Y)\n",
    "\n",
    "\n"
   ]
  },
  {
   "cell_type": "code",
   "execution_count": null,
   "metadata": {},
   "outputs": [
    {
     "name": "stdout",
     "output_type": "stream",
     "text": [
      "2.0\n"
     ]
    }
   ],
   "source": [
    "def moyenne_trois_nombres (a, b, c):\n",
    "    \"\"\"Prend trois nombres en arguments et en ressort la moyenne.\"\"\"\n",
    "    A = (a + b + c)/3\n",
    "    return A\n",
    "\n",
    "print (moyenne_trois_nombres (3, 6, -3))"
   ]
  },
  {
   "cell_type": "code",
   "execution_count": null,
   "metadata": {},
   "outputs": [],
   "source": [
    "def moyenne_ponderee (a, pa, b, pb, c, pc):\n",
    "    \"\"\"Avec coeff de pondération\"\"\"\n",
    "    A = (pa * a + pb * b + pc * c)/(pa + pb + pc)\n",
    "    return A\n"
   ]
  },
  {
   "cell_type": "code",
   "execution_count": 5,
   "metadata": {},
   "outputs": [
    {
     "name": "stdout",
     "output_type": "stream",
     "text": [
      "{'s': 2, 't': 1, 'a': 3, 'l': 2, 'k': 1, 'h': 1, 'i': 1, 'o': 3, 'e': 5, 'c': 3, 'j': 1, ' ': 7, 'd': 2, 'u': 2, 'n': 2, 'm': 1, 'g': 1, 'f': 1, 'v': 1, 'r': 2}\n"
     ]
    }
   ],
   "source": [
    "chaine = str(input(\"Saissez une chaine de caractères\"))\n",
    "d = {}\n",
    "s = set(chaine)\n",
    "for i in s:\n",
    "    d[i] = chaine.count(i)\n",
    "print(d)"
   ]
  },
  {
   "cell_type": "code",
   "execution_count": 3,
   "metadata": {},
   "outputs": [
    {
     "name": "stdout",
     "output_type": "stream",
     "text": [
      "n1 = 8 et n2 = 9\n",
      "n1 = 1 et n2 = 8\n",
      "n1 = 3 et n2 = 4\n",
      "n1 = 0 et n2 = 3\n",
      "n1 = 9 et n2 = 3\n",
      "n1 = 1 et n2 = 10\n",
      "n1 = 4 et n2 = 1\n",
      "n1 = 4 et n2 = 1\n",
      "n1 = 5 et n2 = 10\n",
      "n1 = 1 et n2 = 8\n",
      "Vous avez obtenu 8 points\n"
     ]
    }
   ],
   "source": [
    "import random\n",
    "compteur_points = 0\n",
    "for i in range (10):\n",
    "   n1 = random.randint(0, 10)\n",
    "   n2 = random.randint(0, 10)\n",
    "   print (\"n1 =\", n1, \"et n2 =\", n2)\n",
    "   rep = int(input(\"Combien font n1 * n2 ?\"))\n",
    "   if rep == n1 * n2:\n",
    "    compteur_points += 1\n",
    "   elif rep != n1 * n2:\n",
    "    compteur_points -= 1\n",
    "print(\"Vous avez obtenu\", compteur_points, \"points\")"
   ]
  }
 ],
 "metadata": {
  "kernelspec": {
   "display_name": "l1-python",
   "language": "python",
   "name": "python3"
  },
  "language_info": {
   "codemirror_mode": {
    "name": "ipython",
    "version": 3
   },
   "file_extension": ".py",
   "mimetype": "text/x-python",
   "name": "python",
   "nbconvert_exporter": "python",
   "pygments_lexer": "ipython3",
   "version": "3.10.8 | packaged by conda-forge | (main, Nov 24 2022, 14:07:00) [MSC v.1916 64 bit (AMD64)]"
  },
  "orig_nbformat": 4,
  "vscode": {
   "interpreter": {
    "hash": "60efee2c61267e0a5e267ea4b810269e1acefc1b5e65ca3a78b1fb53cf1fa33b"
   }
  }
 },
 "nbformat": 4,
 "nbformat_minor": 2
}
