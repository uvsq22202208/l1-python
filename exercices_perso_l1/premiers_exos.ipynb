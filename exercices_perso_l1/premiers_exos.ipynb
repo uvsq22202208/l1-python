{
 "cells": [
  {
   "cell_type": "code",
   "execution_count": 8,
   "metadata": {},
   "outputs": [
    {
     "name": "stdout",
     "output_type": "stream",
     "text": [
      "X = 5 Y = 9\n",
      "X = 9 Y = 5\n"
     ]
    }
   ],
   "source": [
    "X = int(input(\"Saisissez C\"))\n",
    "Y = int(input(\"Saisissez E\"))\n",
    "print (\"X =\", X, \"Y =\", Y)\n",
    "A = Y\n",
    "Y = X\n",
    "X = A\n",
    "print (\"X =\", X, \"Y =\", Y)\n",
    "\n",
    "\n"
   ]
  },
  {
   "cell_type": "code",
   "execution_count": null,
   "metadata": {},
   "outputs": [
    {
     "name": "stdout",
     "output_type": "stream",
     "text": [
      "2.0\n"
     ]
    }
   ],
   "source": [
    "def moyenne_trois_nombres (a, b, c):\n",
    "    \"\"\"Prend trois nombres en arguments et en ressort la moyenne.\"\"\"\n",
    "    A = (a + b + c)/3\n",
    "    return A\n",
    "\n",
    "print (moyenne_trois_nombres (3, 6, -3))"
   ]
  },
  {
   "cell_type": "code",
   "execution_count": null,
   "metadata": {},
   "outputs": [],
   "source": [
    "def moyenne_ponderee (a, pa, b, pb, c, pc):\n",
    "    \"\"\"Avec coeff de pondération\"\"\"\n",
    "    A = (pa * a + pb * b + pc * c)/(pa + pb + pc)\n",
    "    return A\n"
   ]
  }
 ],
 "metadata": {
  "kernelspec": {
   "display_name": "l1-python",
   "language": "python",
   "name": "python3"
  },
  "language_info": {
   "codemirror_mode": {
    "name": "ipython",
    "version": 3
   },
   "file_extension": ".py",
   "mimetype": "text/x-python",
   "name": "python",
   "nbconvert_exporter": "python",
   "pygments_lexer": "ipython3",
   "version": "3.10.8 | packaged by conda-forge | (main, Nov 24 2022, 14:07:00) [MSC v.1916 64 bit (AMD64)]"
  },
  "orig_nbformat": 4,
  "vscode": {
   "interpreter": {
    "hash": "60efee2c61267e0a5e267ea4b810269e1acefc1b5e65ca3a78b1fb53cf1fa33b"
   }
  }
 },
 "nbformat": 4,
 "nbformat_minor": 2
}
