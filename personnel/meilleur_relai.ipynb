{
 "cells": [
  {
   "cell_type": "code",
   "execution_count": 9,
   "metadata": {},
   "outputs": [
    {
     "name": "stdout",
     "output_type": "stream",
     "text": [
      "0\n",
      "1\n",
      "2\n",
      "3\n"
     ]
    }
   ],
   "source": [
    "l = [1, 2, 3, 4]\n",
    "l1 = [1, 2, 3, 4]\n",
    "l2 = [1, 2, 3, 4]\n",
    "l3 = [1, 2, 3, 4]\n",
    "\n",
    "a =\n",
    "b =\n",
    "c \n",
    "d \n",
    "e \n",
    "f \n",
    "g \n",
    "h \n",
    "i \n",
    "j \n",
    "k \n",
    "l \n",
    "m \n",
    "n \n",
    "o \n",
    "p \n",
    "\n",
    "\n",
    "\n"
   ]
  }
 ],
 "metadata": {
  "kernelspec": {
   "display_name": "l1-python",
   "language": "python",
   "name": "python3"
  },
  "language_info": {
   "codemirror_mode": {
    "name": "ipython",
    "version": 3
   },
   "file_extension": ".py",
   "mimetype": "text/x-python",
   "name": "python",
   "nbconvert_exporter": "python",
   "pygments_lexer": "ipython3",
   "version": "3.10.8 | packaged by conda-forge | (main, Nov 24 2022, 14:07:00) [MSC v.1916 64 bit (AMD64)]"
  },
  "orig_nbformat": 4,
  "vscode": {
   "interpreter": {
    "hash": "60efee2c61267e0a5e267ea4b810269e1acefc1b5e65ca3a78b1fb53cf1fa33b"
   }
  }
 },
 "nbformat": 4,
 "nbformat_minor": 2
}
